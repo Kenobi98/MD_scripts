{
 "cells": [
  {
   "cell_type": "code",
   "execution_count": 66,
   "id": "a4d46ee9-8f50-482e-ad91-65f36911aa50",
   "metadata": {},
   "outputs": [],
   "source": [
    "#Modifying the gro file for domain swapping simulation\n",
    "import numpy as np\n",
    "\n",
    "with open (\"GB1.27352.pdb.gro\",\"r\") as gro:\n",
    "    gro = gro.readlines()\n",
    "\n",
    "    "
   ]
  },
  {
   "cell_type": "code",
   "execution_count": 67,
   "id": "7df43983-8cd6-4a9c-a904-61b20c692256",
   "metadata": {},
   "outputs": [],
   "source": [
    "w = open(\"gb1_long.gro\",\"w\")\n",
    "y = []\n",
    "\n",
    "for i in range(len(gro)):\n",
    "    if i == 2:\n",
    "        for j in range(i,len(gro)-1):\n",
    "            w.writelines(gro[j])\n",
    "            a = gro[j].split()\n",
    "\n",
    "            a[0] = str(int(a[0]) + 56)\n",
    "            a[3] = str(int(a[3]) + 436)\n",
    "            a[4] = str(round((float(a[4])+2),4))\n",
    "            a[5] = str(round((float(a[5])+2),4))\n",
    "            a[6] = str(round((float(a[6])+2),4))\n",
    "\n",
    "            a[0] = a[0].rjust(5)\n",
    "            a[1] = a[1].rjust(5)\n",
    "            a[2] = a[2].rjust(2 + len(a[2]))\n",
    "            a[3] = a[3].rjust(3 + (7-len(a[2])))\n",
    "            a[4] = a[4].rjust(8)\n",
    "            a[5] = a[5].rjust(8 + (8-len(a[4])))\n",
    "            a[6] = a[6].rjust(8 + (8-len(a[5])))\n",
    "\n",
    "            b = a[0] + a[1] + a[2] + a[3] + a[4] + a[5] + a[6] + \"\\n\"\n",
    "\n",
    "            y.append(b)\n",
    "        break\n",
    "    else:\n",
    "        w.writelines(gro[i])\n",
    "\n",
    "w.writelines(y[:])\n",
    "w.writelines(gro[-1])\n",
    "w.close() \n",
    "\n",
    "    "
   ]
  },
  {
   "cell_type": "code",
   "execution_count": 63,
   "id": "e4091f6d-635c-4092-a40c-a883846116c6",
   "metadata": {},
   "outputs": [
    {
     "data": {
      "text/plain": [
       "'         436\\n'"
      ]
     },
     "execution_count": 63,
     "metadata": {},
     "output_type": "execute_result"
    }
   ],
   "source": []
  },
  {
   "cell_type": "code",
   "execution_count": null,
   "id": "979fe0b3-7bd5-4881-a378-b35cb0ffb3e0",
   "metadata": {},
   "outputs": [],
   "source": []
  },
  {
   "cell_type": "code",
   "execution_count": null,
   "id": "21ee15bd-3766-479d-bc33-63cf2ada6482",
   "metadata": {},
   "outputs": [],
   "source": []
  }
 ],
 "metadata": {
  "kernelspec": {
   "display_name": "Python 3",
   "language": "python",
   "name": "python3"
  },
  "language_info": {
   "codemirror_mode": {
    "name": "ipython",
    "version": 3
   },
   "file_extension": ".py",
   "mimetype": "text/x-python",
   "name": "python",
   "nbconvert_exporter": "python",
   "pygments_lexer": "ipython3",
   "version": "3.8.8"
  }
 },
 "nbformat": 4,
 "nbformat_minor": 5
}
