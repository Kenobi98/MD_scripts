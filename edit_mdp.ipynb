{
 "cells": [
  {
   "cell_type": "code",
   "execution_count": 10,
   "id": "767975db-cc84-4079-8df6-a9c1374c2c06",
   "metadata": {},
   "outputs": [],
   "source": [
    "#Editing the mdp file\n",
    "\n",
    "import numpy as np\n",
    "\n",
    "with open (\"run.mdp\", \"r\") as mdp:\n",
    "    mdp = mdp.readlines()\n"
   ]
  },
  {
   "cell_type": "code",
   "execution_count": 27,
   "id": "8ccda73f-a1e1-4189-b311-bcb2c3895780",
   "metadata": {},
   "outputs": [],
   "source": [
    "w = open(\"mod_run.mdp\", \"w\")\n",
    "temp = 116\n",
    "\n",
    "for i in range(len(mdp)):\n",
    "    if \"ref_t\" in mdp[i]:\n",
    "        a = mdp[i].split()\n",
    "        a[2] = str(temp)\n",
    "        a[1] = a[1].rjust(2)\n",
    "        a[2] = a[2].rjust(4)\n",
    "        b = a[0] + a[1] + a[2]\n",
    "        for j in range(3,len(a)):\n",
    "            b = b + \" \" + a[j]\n",
    "        b += \"\\n\"\n",
    "        \n",
    "        w.writelines(b)\n",
    "    \n",
    "    elif \"gen_temp\" in mdp[i]:\n",
    "        a = mdp[i].split()\n",
    "        a[2] = str(temp)\n",
    "        a[1] = a[1].rjust(4)\n",
    "        a[2] = a[2].rjust(4)\n",
    "        b = a[0] + a[1] + a[2] + \"\\n\"\n",
    "        \n",
    "        w.writelines(b)\n",
    "    else:\n",
    "        w.writelines(mdp[i])\n",
    "w.close()"
   ]
  },
  {
   "cell_type": "code",
   "execution_count": null,
   "id": "e6053e0b-efb2-43b2-9b3a-4a086ce449da",
   "metadata": {},
   "outputs": [],
   "source": []
  },
  {
   "cell_type": "code",
   "execution_count": null,
   "id": "c6dae168-d615-494e-a3de-50958513e883",
   "metadata": {},
   "outputs": [],
   "source": []
  }
 ],
 "metadata": {
  "kernelspec": {
   "display_name": "Python 3",
   "language": "python",
   "name": "python3"
  },
  "language_info": {
   "codemirror_mode": {
    "name": "ipython",
    "version": 3
   },
   "file_extension": ".py",
   "mimetype": "text/x-python",
   "name": "python",
   "nbconvert_exporter": "python",
   "pygments_lexer": "ipython3",
   "version": "3.8.8"
  }
 },
 "nbformat": 4,
 "nbformat_minor": 5
}
