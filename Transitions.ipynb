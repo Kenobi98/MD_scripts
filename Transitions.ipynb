{
 "cells": [
  {
   "cell_type": "code",
   "execution_count": 2,
   "id": "7038b180-79cd-4533-8804-ba54d9569ea2",
   "metadata": {},
   "outputs": [],
   "source": [
    "import numpy as np\n",
    "import math\n",
    "from matplotlib import pyplot as plt\n",
    "import statistics as st\n",
    "\n",
    "with open (\"traj.xtc.AA.Q\",\"r\") as q_file:\n",
    "    q = q_file.readlines()"
   ]
  },
  {
   "cell_type": "code",
   "execution_count": 6,
   "id": "36a89ef3-7a56-4acd-8f7b-f60b5c03da32",
   "metadata": {},
   "outputs": [],
   "source": [
    "\n",
    "s = []\n",
    "\n",
    "for i in range(len(q)):\n",
    "    s.append(int(q[i].strip()))\n"
   ]
  },
  {
   "cell_type": "code",
   "execution_count": 18,
   "id": "bd3d4ff0-4042-4fed-a36c-fa880988d897",
   "metadata": {},
   "outputs": [
    {
     "name": "stdout",
     "output_type": "stream",
     "text": [
      "1\n"
     ]
    }
   ],
   "source": [
    "ucut = 690\n",
    "lcut = 350\n",
    "f = []\n",
    "\n",
    "for i in range(len(s)):\n",
    "    if s[i] >= ucut:\n",
    "        f.append(1)\n",
    "    elif s[i] <= lcut:\n",
    "        f.append(0)\n",
    "    else:\n",
    "        continue\n",
    "\n",
    "count = 0\n",
    "\n",
    "for i in range(len(f)-1):\n",
    "    if f[i] == 1 and f[i+1] == 0:\n",
    "        for j in range(i,len(f)-1):\n",
    "            count += 1\n",
    "            break\n",
    "\n",
    "print(count)\n",
    "        "
   ]
  },
  {
   "cell_type": "code",
   "execution_count": null,
   "id": "1d4a5cc3-80b3-4d1c-a052-d037fadb02af",
   "metadata": {},
   "outputs": [],
   "source": []
  },
  {
   "cell_type": "code",
   "execution_count": null,
   "id": "a5b6c5e9-c21c-4cd8-a773-41a0b4b0545b",
   "metadata": {},
   "outputs": [],
   "source": []
  },
  {
   "cell_type": "code",
   "execution_count": null,
   "id": "43f7c9aa-5a7e-4f4f-b178-3fedae667864",
   "metadata": {},
   "outputs": [],
   "source": []
  },
  {
   "cell_type": "code",
   "execution_count": null,
   "id": "8563b943-1037-4d7e-818f-ba0b0d73413f",
   "metadata": {},
   "outputs": [],
   "source": []
  },
  {
   "cell_type": "code",
   "execution_count": null,
   "id": "666924fd-bd8f-4650-b6ac-5a24dc582f49",
   "metadata": {},
   "outputs": [],
   "source": []
  }
 ],
 "metadata": {
  "kernelspec": {
   "display_name": "Python 3 (ipykernel)",
   "language": "python",
   "name": "python3"
  },
  "language_info": {
   "codemirror_mode": {
    "name": "ipython",
    "version": 3
   },
   "file_extension": ".py",
   "mimetype": "text/x-python",
   "name": "python",
   "nbconvert_exporter": "python",
   "pygments_lexer": "ipython3",
   "version": "3.9.7"
  }
 },
 "nbformat": 4,
 "nbformat_minor": 5
}
