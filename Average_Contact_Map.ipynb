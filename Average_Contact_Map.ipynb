{
 "cells": [
  {
   "cell_type": "code",
   "execution_count": 1,
   "id": "8f9eed37-07a3-45ab-85bb-6750c1c62896",
   "metadata": {},
   "outputs": [],
   "source": [
    "import numpy as np\n",
    "from matplotlib import pyplot as plt\n",
    "import pandas as pd\n",
    "\n",
    "topolo = open (\"GB1.27352.pdb.top\", \"r\")\n",
    "topol = topolo.readlines()\n",
    "topolo.close()\n",
    "\n",
    "Q_files = open (\"traj.xtc.AA.Q\", \"r\")\n",
    "Q_file = Q_files.readlines()\n",
    "Q_files.close()\n",
    "\n",
    "Qi_files = open (\"traj.xtc.AA.Qi\", \"r\")\n",
    "Qi_file = Qi_files.readlines()\n",
    "Qi_files.close()"
   ]
  },
  {
   "cell_type": "code",
   "execution_count": 2,
   "id": "021b7ef6-2087-4da0-afcb-fa3763a12957",
   "metadata": {},
   "outputs": [],
   "source": [
    "\"\"\"Counting the no. of rows in a module\"\"\"\n",
    "\n",
    "def top_pairs(top):\n",
    "    rows = 0\n",
    "\n",
    "    for i in range(len(top)):\n",
    "        if \"[ pairs ]\" in top[i]:\n",
    "            start = i+2\n",
    "            for j in range(start,len(top)):\n",
    "                if \"[ bonds ]\" in top[j]:\n",
    "                    break\n",
    "                else:\n",
    "                    rows += 1         \n",
    "        else:\n",
    "            continue\n",
    "\n",
    "    \"\"\"Selecting i-j pairs from top file\"\"\"\n",
    "\n",
    "    atm1 = []\n",
    "    atm2 = []\n",
    "    end = start+rows-1\n",
    "\n",
    "    for i in range(start,end):\n",
    "        line = top[i].split()\n",
    "        atm1.append(int(line[0]))\n",
    "        atm2.append(int(line[1]))          \n",
    "\n",
    "    #top = pd.DataFrame()\n",
    "    #top['i'] = atm1\n",
    "    #top['j'] = atm2\n",
    "    \n",
    "    return(atm1, atm2)\n",
    "\n",
    "atm1, atm2 = top_pairs(topol)"
   ]
  },
  {
   "cell_type": "code",
   "execution_count": 8,
   "id": "1f8e9e05-5b56-4d80-8f56-7aea41970ce5",
   "metadata": {},
   "outputs": [],
   "source": [
    "from matplotlib.colors import LinearSegmentedColormap\n",
    "\n",
    "\"\"\"Generating Custom Colormap\"\"\"\n",
    "with open ('colormap') as f:                        # imports the custom colormap\n",
    "    p = f.readlines()\n",
    "q = [x.split() for x in p]\n",
    "\n",
    "for i in range(len(q)):\n",
    "    for j in range(len(q[i])):\n",
    "        q[i][j] = q[i][j].strip()\n",
    "        q[i][j] = float(q[i][j])\n",
    "    q[i] = tuple(q[i])\n",
    "\n",
    "cmap_name = 'custom'\n",
    "cm1 = LinearSegmentedColormap.from_list(cmap_name, q)\n",
    "cm2 = LinearSegmentedColormap.from_list(cmap_name, q[::-1])\n",
    "\n",
    "##now use cmap=cm1 or cmap=cm2 in plt options"
   ]
  },
  {
   "cell_type": "code",
   "execution_count": 3,
   "id": "b21590c4-9819-482a-b06f-d02177bd7590",
   "metadata": {},
   "outputs": [],
   "source": [
    "\"\"\"Reading Q and Qi files\"\"\"\n",
    "\n",
    "chk1 = len(Q_file)\n",
    "chk2 = len(Qi_file)\n",
    "n = round(chk1/2)\n",
    "frames = 0\n",
    "Q = []\n",
    "Qi = []\n",
    "\n",
    "for i in range(n):\n",
    "    Q.append(int(Q_file[i].strip()))\n",
    "    frames += Q[i]\n",
    "\n",
    "for i in range(frames):\n",
    "    Qi.append(int(Qi_file[i].strip()))\n"
   ]
  },
  {
   "cell_type": "code",
   "execution_count": 4,
   "id": "e283b9a8-3ce8-4d50-a8ac-541b7cee1cbc",
   "metadata": {},
   "outputs": [],
   "source": [
    "thresh = [0.75, 0.85]\n",
    "total = len(atm1)\n",
    "start = 0\n",
    "Qs = []\n",
    "thresh_Q = 0\n",
    "\n",
    "for i in range(len(Q)):\n",
    "    if Q[i] >= thresh[0]*total and Q[i] <= total*thresh[1]:\n",
    "        thresh_Q += 1\n",
    "        stop = start+Q[i]\n",
    "        Qs.extend(Qi[start:stop])\n",
    "    \n",
    "    start += Q[i]\n"
   ]
  },
  {
   "cell_type": "code",
   "execution_count": 43,
   "id": "32a90445-d190-4e55-8a7e-b2cdd1068615",
   "metadata": {},
   "outputs": [
    {
     "data": {
      "text/plain": [
       "1490"
      ]
     },
     "execution_count": 43,
     "metadata": {},
     "output_type": "execute_result"
    }
   ],
   "source": [
    "thresh_Q"
   ]
  },
  {
   "cell_type": "code",
   "execution_count": 5,
   "id": "7b5b2041-7e05-424d-8f7d-2375d690bc3d",
   "metadata": {},
   "outputs": [],
   "source": [
    "Q = []; Qi = [];\n",
    "\n",
    "for i in range(n,chk1):\n",
    "    Q.append(int(Q_file[i].strip()))\n",
    "\n",
    "for i in range(frames,chk2):\n",
    "    Qi.append(int(Qi_file[i].strip()))\n",
    "\n",
    "\n",
    "for i in range(n, len(Q)):\n",
    "    if Q[i] >= thresh[0]*total and Q[i] <= total*thresh[1]:\n",
    "        thresh_Q += 1\n",
    "        stop = start+Q[i]\n",
    "        Qs.extend(Qi[start:stop])\n",
    "    \n",
    "    start += Q[i]\n",
    "\n",
    "if thresh_Q == 0:\n",
    "    print(\"Sorry No Contacts in this threshold\")\n",
    "prob = {}\n",
    "\n",
    "for i in range(len(atm1)):           #Calculating the probability of each contact pair\n",
    "    prob[i+1] = Qs.count(i+1)/thresh_Q\n"
   ]
  },
  {
   "cell_type": "code",
   "execution_count": 14,
   "id": "862da704-f98b-4630-a74e-b54342d86dbd",
   "metadata": {},
   "outputs": [
    {
     "data": {
      "image/png": "[encoded data removed]",
      "text/plain": [
       "<Figure size 432x288 with 2 Axes>"
      ]
     },
     "metadata": {
      "needs_background": "light"
     },
     "output_type": "display_data"
    }
   ],
   "source": [
    "\"\"\"Plot the average contact map\"\"\"\n",
    "\n",
    "x = []; y = []; p = [];\n",
    "\n",
    "for i in range(len(atm1)):\n",
    "    x.append(int(atm1[i]))\n",
    "    y.append(int(atm2[i]))\n",
    "    x.append(int(atm2[i]))\n",
    "    y.append(int(atm1[i]))\n",
    "    p.append(prob[i+1])\n",
    "    p.append(prob[i+1])\n",
    "\n",
    "\n",
    "plt.scatter(x,y, c = p, linewidth = 0.5, s = 10)\n",
    "plt.xlim(0,440)\n",
    "plt.ylim(0,440)\n",
    "plt.xlabel(\"Residue no. (i)\")\n",
    "plt.ylabel(\"Residue no. (j)\")\n",
    "plt.grid()\n",
    "sm = plt.cm.ScalarMappable(cmap=cm1)\n",
    "sm.set_array([])\n",
    "  \n",
    "plt.colorbar(sm, ticks=np.linspace(0, 2, 9))\n",
    "\n",
    "plt.show()"
   ]
  },
  {
   "cell_type": "code",
   "execution_count": 91,
   "id": "7afe3995-2614-4bc6-9cb5-6b6434ad8c2b",
   "metadata": {},
   "outputs": [
    {
     "name": "stdout",
     "output_type": "stream",
     "text": [
      "5\n"
     ]
    }
   ],
   "source": [
    "i = []; j = []; ij = []\n",
    "\n",
    "for m in range(1,437):\n",
    "    for n in range(1,437):\n",
    "        i.append(m)\n",
    "        j.append(n)\n",
    "\n",
    "o = 5\n",
    "        \n",
    "for m in range(len(top)):\n",
    "    for n in range(len(i)):\n",
    "        if int(top.iloc[m,0])==i[n] and int(top.iloc[m,1]==j[n]):\n",
    "            ij.append(prob[m])\n",
    "        else:\n",
    "            ij.append(0)\n",
    "    #print(\"Run 1 =\", m)\n",
    "\n"
   ]
  },
  {
   "cell_type": "code",
   "execution_count": 89,
   "id": "00ea34ee-6f55-486d-8a28-112e5692e67c",
   "metadata": {},
   "outputs": [],
   "source": [
    "pro = open(\"prob1\",\"w\")\n",
    "\n",
    "for m in range(len(i)):\n",
    "    pro.writelines(str(i[m]) + \"\\t\" + str(j[m]) + \"\\t\" + str(ij[m]) + \"\\n\")\n",
    "pro.close()"
   ]
  },
  {
   "cell_type": "code",
   "execution_count": 28,
   "id": "044c94b1-9a98-43b5-aedb-7494abfab5df",
   "metadata": {},
   "outputs": [],
   "source": [
    "a = int(top.iloc[0,0])\n",
    "a = a-1"
   ]
  },
  {
   "cell_type": "code",
   "execution_count": null,
   "id": "e03ba444-2a85-4cff-95a1-a92db0cee759",
   "metadata": {},
   "outputs": [],
   "source": []
  },
  {
   "cell_type": "code",
   "execution_count": 15,
   "id": "e264ab0b-e049-46fe-b367-3ae28fc0ab5e",
   "metadata": {},
   "outputs": [
    {
     "data": {
      "text/plain": [
       "str"
      ]
     },
     "execution_count": 15,
     "metadata": {},
     "output_type": "execute_result"
    }
   ],
   "source": [
    "type(top.iloc[0,0])"
   ]
  },
  {
   "cell_type": "code",
   "execution_count": null,
   "id": "d325232d-4b46-47fe-b786-aaf709707b4c",
   "metadata": {},
   "outputs": [],
   "source": []
  },
  {
   "cell_type": "code",
   "execution_count": null,
   "id": "93f8db25-30cc-4ae8-813d-af6bcaab3c87",
   "metadata": {},
   "outputs": [],
   "source": []
  }
 ],
 "metadata": {
  "kernelspec": {
   "display_name": "Python 3",
   "language": "python",
   "name": "python3"
  },
  "language_info": {
   "codemirror_mode": {
    "name": "ipython",
    "version": 3
   },
   "file_extension": ".py",
   "mimetype": "text/x-python",
   "name": "python",
   "nbconvert_exporter": "python",
   "pygments_lexer": "ipython3",
   "version": "3.8.8"
  }
 },
 "nbformat": 4,
 "nbformat_minor": 5
}
